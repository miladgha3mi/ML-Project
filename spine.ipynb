{
 "cells": [
  {
   "cell_type": "markdown",
   "metadata": {},
   "source": [
    "### The Spine dataset contains information about patients belonging to one of three categories    of lumbar spine malfunctions:\n",
    "1) Normal, 2) Disk Hernia and 3) Spondylolisthesis with the last two categories being abnormal. Each patient is represented in the data set by six biomechanical attributes derived from the shape and orientation of the pelvis and lumbar spine (in this order): pelvic incidence (PI), pelvic tilt (PT), lumbar lordosis angle (LL), sacral slope (SS), pelvic radius (PR) and grade of spondylolisthesis (GS)."
   ]
  },
  {
   "cell_type": "code",
   "execution_count": null,
   "metadata": {},
   "outputs": [],
   "source": [
    "df=pd.read_csv('spine.csv')\n",
    "#Get the summary of data and check whether or not there are any missing values\n",
    "df.describe(include=\"all\")"
   ]
  },
  {
   "cell_type": "markdown",
   "metadata": {},
   "source": [
    "Compute the mean and standard deviation for the PI variable, and mean, median and standard deviation for GS variable. Use the agg function.\n"
   ]
  },
  {
   "cell_type": "code",
   "execution_count": null,
   "metadata": {},
   "outputs": [],
   "source": [
    "df.agg({'PI':['mean','var'],'GS':['mean','std','median']})"
   ]
  },
  {
   "cell_type": "markdown",
   "metadata": {},
   "source": [
    "Group the whole dataframe based on the “Categories” (last column in Spine dataset). Compute the mean and standard deviation associated with each group for all variables. What do you think about the differences in means and standard deviations of variables among the levels of the variable “Categories”?"
   ]
  },
  {
   "cell_type": "code",
   "execution_count": null,
   "metadata": {},
   "outputs": [],
   "source": [
    "df2=df.groupby(df['Categories'])\n",
    "df2.agg(['mean','std'])"
   ]
  },
  {
   "cell_type": "markdown",
   "metadata": {},
   "source": [
    "Compare the boxplots for the variable GS corresponding to the groups of the variable “Categories”. You must locate all boxplots in one plot (see googleapps.py file)."
   ]
  },
  {
   "cell_type": "code",
   "execution_count": null,
   "metadata": {},
   "outputs": [],
   "source": [
    "l=[df['GS'].loc[df['Categories']==x] for x in df['Categories'].unique()]\n",
    "box=plt.boxplot(l,notch=True,labels= df['Categories'].unique())#Boxplots for Rating associated with each category\n",
    "colors = ['cyan', 'lightblue', 'lightgreen']\n",
    "for patch, color in zip(box['boxes'], colors):\n",
    "patch.set_color(color)"
   ]
  },
  {
   "cell_type": "markdown",
   "metadata": {},
   "source": [
    "Scale the data and apply PCA on the scaled dataset"
   ]
  },
  {
   "cell_type": "code",
   "execution_count": null,
   "metadata": {},
   "outputs": [],
   "source": [
    "X=df.iloc[:,0:6]\n",
    "X=scale(X)\n",
    "pca=PCA()\n",
    "pca.fit(X)"
   ]
  },
  {
   "cell_type": "markdown",
   "metadata": {},
   "source": [
    "Provide the matrix of directions (loadings). Interpret the first three directions. This is the “W” matrix in the slides."
   ]
  },
  {
   "cell_type": "code",
   "execution_count": null,
   "metadata": {},
   "outputs": [],
   "source": [
    "W=pca.components_.T\n",
    "pd.DataFrame(W[:,:3],index=df.columns[:-1],columns=['PC1','PC2','PC3'])\n",
    "PC1 PC2 PC3\n",
    "PI 0.535142 -0.002194 -0.096069\n",
    "PT 0.323585 0.527545 -0.648701\n",
    "LL 0.457970 0.092875 0.152338\n",
    "SS 0.445906 -0.396157 0.360313\n",
    "PR -0.143497 0.727756 0.585991\n",
    "GS 0.423978 0.162777 0.271184\n",
    "#The first PC gives a contrast between the average of PI, PT, LL, SS and\n",
    "#GS against PR. The second PC gives a contrast between the average of PR, GS, PT, LL\n",
    "#against SS. PC3 provides a contrast between the average of PI and PT against the average of LL, SS, PR and GS."
   ]
  },
  {
   "cell_type": "markdown",
   "metadata": {},
   "source": [
    "Compute the explained variance ratio"
   ]
  },
  {
   "cell_type": "code",
   "execution_count": null,
   "metadata": {},
   "outputs": [],
   "source": [
    "pd.DataFrame(pca.explained_variance_ratio_.cumsum(),index=np.arange(X.shape[1])+1,columns=['Explained Variability'])\n",
    "Explained Variability\n",
    "1 0.540964\n",
    "2 0.740061\n",
    "3 0.866909\n",
    "4 0.945664\n",
    "5 1.000000\n",
    "6 1.000000\n",
    "#Obviously, the first two components explain about 74% of the variability. So, we can work with these two components."
   ]
  },
  {
   "cell_type": "markdown",
   "metadata": {},
   "source": [
    "Using the scree plot"
   ]
  },
  {
   "cell_type": "code",
   "execution_count": null,
   "metadata": {},
   "outputs": [],
   "source": [
    "plt.bar(np.arange(1,X.shape[1]+1),pca.explained_variance_,color=\"blue\",edgecolor=\"Red\")"
   ]
  },
  {
   "cell_type": "markdown",
   "metadata": {},
   "source": [
    "Make a scatter plot of the first two PC scores"
   ]
  },
  {
   "cell_type": "code",
   "execution_count": null,
   "metadata": {},
   "outputs": [],
   "source": [
    "Y=pca.fit_transform(X)\n",
    "plt.figure(1)\n",
    "plt.scatter(Y[:,0],Y[:,1],c=\"red\",marker='o',alpha=0.5)\n",
    "plt.xlabel('PC Scores 1')\n",
    "plt.ylabel('PC Scores 2')\n",
    "xs=Y[:,0]\n",
    "ys=Y[:,1]\n",
    "for i in range(len(W[:,0])):\n",
    "plt.arrow(np.mean(xs), np.mean(ys), W[i,0]*max(xs), W[i,1]*max(ys),\n",
    "color='b', width=0.0005, head_width=0.0025)\n",
    "plt.text(W[i,0]*max(xs)+np.mean(xs), +np.mean(ys)+W[i,1]*max(ys),\n",
    "list(df.columns.values)[i], color='b')"
   ]
  },
  {
   "cell_type": "markdown",
   "metadata": {},
   "source": [
    "Which observation does this outlier belong to?"
   ]
  },
  {
   "cell_type": "code",
   "execution_count": null,
   "metadata": {},
   "outputs": [],
   "source": [
    "np.where(Y[:,0]>7)\n",
    "(array([115], dtype=int64),)"
   ]
  },
  {
   "cell_type": "markdown",
   "metadata": {},
   "source": [
    "On what variables (variable) do you think this outlier has the highest values?"
   ]
  },
  {
   "cell_type": "code",
   "execution_count": null,
   "metadata": {},
   "outputs": [],
   "source": [
    "Based on the biplot, we can say the responsible factor might be extremely large values on SS, PI, LL and GS. This point might have a small value on PR as well.\n",
    "Let’s take a look at this observation:\n",
    "df.iloc[115,:]\n",
    "Compare it to the maximum values of the variables:\n",
    "df.agg('max')\n"
   ]
  }
 ],
 "metadata": {
  "kernelspec": {
   "display_name": "Python 3",
   "language": "python",
   "name": "python3"
  },
  "language_info": {
   "codemirror_mode": {
    "name": "ipython",
    "version": 3
   },
   "file_extension": ".py",
   "mimetype": "text/x-python",
   "name": "python",
   "nbconvert_exporter": "python",
   "pygments_lexer": "ipython3",
   "version": "3.7.7"
  }
 },
 "nbformat": 4,
 "nbformat_minor": 4
}
